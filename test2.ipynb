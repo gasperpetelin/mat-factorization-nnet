{
 "cells": [
  {
   "cell_type": "code",
   "execution_count": 1,
   "metadata": {
    "collapsed": true
   },
   "outputs": [],
   "source": [
    "import numpy as np\n",
    "from scipy import optimize\n",
    "from __future__ import division"
   ]
  },
  {
   "cell_type": "code",
   "execution_count": 437,
   "metadata": {
    "collapsed": true
   },
   "outputs": [],
   "source": [
    "class SigmoidActivationFunction:\n",
    "    \n",
    "    @staticmethod\n",
    "    def value(z):\n",
    "        return 1 / (1 + np.exp(-z))\n",
    "    \n",
    "    @staticmethod\n",
    "    def derivative(z):\n",
    "        sig = SigmoidActivationFunction.value(z)\n",
    "        return sig * (1 - sig)\n",
    "    \n",
    "class WeightPacking:\n",
    "    @staticmethod\n",
    "    def pack(weights, biases):\n",
    "        return np.concatenate([np.concatenate((b.T, w.T), 1).reshape(-1) for w,b in zip(weights, biases)])\n",
    "    \n",
    "    @staticmethod\n",
    "    def unpack(thetas, layers):\n",
    "        start = 0\n",
    "        weights = []\n",
    "        biases = []\n",
    "        for x in range(len(layers)-1):\n",
    "            Wlen = layers[x+1] * (layers[x] + 1)\n",
    "            W = thetas[start:start+Wlen].reshape((layers[x+1], layers[x] + 1))\n",
    "            start += Wlen\n",
    "            weights.append(W[:, 1:].T)\n",
    "            biases.append(W[:, 0][np.newaxis])\n",
    "        return weights, biases\n",
    "    \n",
    "    \n",
    "class CrossEntropyCostFunction:\n",
    "    @staticmethod\n",
    "    def cost(actual, predicted):\n",
    "        return np.sum(np.nan_to_num(-actual * np.log(predicted) - (1 - actual) * np.log(1 - predicted)))\n",
    "    \n",
    "    @staticmethod\n",
    "    def delta(actual, predicted, activationFunction):\n",
    "        return predicted-actual\n"
   ]
  },
  {
   "cell_type": "code",
   "execution_count": 446,
   "metadata": {
    "collapsed": false
   },
   "outputs": [],
   "source": [
    "class NN_1HL(object):\n",
    "    \n",
    "    def __init__(self, reg_lambda=0, epsilon_init=0.12,\n",
    "                 hidden_layer_size=25, opti_method='TNC', maxiter=500, \n",
    "                 ActivationFunction = SigmoidActivationFunction, CostFunction = CrossEntropyCostFunction):\n",
    "        self.reg_lambda = reg_lambda\n",
    "        self.epsilon_init = epsilon_init\n",
    "        self.hidden_layer_size = hidden_layer_size\n",
    "        self.activation_func = ActivationFunction.value\n",
    "        self.activation_func_prime = ActivationFunction.derivative\n",
    "        self.method = opti_method\n",
    "        self.maxiter = maxiter\n",
    "        self._CostFunction = CostFunction.cost\n",
    "        self._CostFunctionDelta = CostFunction.delta\n",
    "    \n",
    "    def rand_init(self, l_in, l_out):\n",
    "        return np.random.rand(l_out, l_in + 1) * 2 * self.epsilon_init - self.epsilon_init\n",
    "    \n",
    "    def predict(self, X):\n",
    "        return self.predict_proba(X).argmax(0)\n",
    "    \n",
    "    def predict_proba(self, X):\n",
    "        _, _, _, _, h = self._forward(X, self.weights, self.biases)\n",
    "        return h.T\n",
    "    \n",
    "    def _forward(self, X, weights, biases):\n",
    "       \n",
    "        a1 = X\n",
    "        z1 = np.dot(X, weights[0]) + biases[0]\n",
    "        a2 = self.activation_func(z1)\n",
    "        z2 = np.dot(a2, weights[1]) + biases[1]\n",
    "        a3 = self.activation_func(z2)\n",
    "        \n",
    "        return a1, z1, a2, z2, a3   \n",
    "\n",
    "    \n",
    "    def fit(self, X, y):\n",
    "        num_features = X.shape[0]\n",
    "        input_layer_size = X.shape[1]\n",
    "        num_labels = len(set(y))\n",
    "        \n",
    "        theta1_0 = self.rand_init(input_layer_size, self.hidden_layer_size)\n",
    "        theta2_0 = self.rand_init(self.hidden_layer_size, num_labels)\n",
    "        \n",
    "        layers = [input_layer_size, self.hidden_layer_size, num_labels]\n",
    "        \n",
    "        t1w = theta1_0[:, 1:].T\n",
    "        \n",
    "        t1b = theta1_0[:, 0][np.newaxis]\n",
    "\n",
    "        t2w = theta2_0[:, 1:].T\n",
    "        t2b = theta2_0[:, 0][np.newaxis]\n",
    "\n",
    "        thetas0 = WeightPacking.pack([t1w, t2w],[t1b, t2b])\n",
    "\n",
    "        options = {'maxiter': self.maxiter}\n",
    "        _res = optimize.minimize(self.function, thetas0, jac=True, method=self.method, \n",
    "                                 args=(layers, X, y, self.reg_lambda), options=options)\n",
    "        \n",
    "        self.weights, self.biases = WeightPacking.unpack(_res.x, layers)\n",
    "    \n",
    "    \n",
    "    def function(self, thetas, layers, X, y, reg_lambda):\n",
    "        m = X.shape[0]\n",
    "\n",
    "        wk,bk = WeightPacking.unpack(thetas, layers)\n",
    "        t1w = wk[0]\n",
    "        t1b = bk[0]\n",
    "        t2w = wk[1]\n",
    "        t2b = bk[1]\n",
    "        \n",
    "        Y = np.eye(layers[-1])[y]\n",
    "        \n",
    "\n",
    "        _, _, _, _, h = self._forward(X, [t1w, t2w], [t1b, t2b])\n",
    "\n",
    "        \n",
    "        J = self._CostFunction(Y, h) / m\n",
    "\n",
    "        b1 = np.zeros(layers[1])\n",
    "        b2 = np.zeros(layers[2])\n",
    "        \n",
    "        Delta1, Delta2 = np.zeros(t1w.shape), np.zeros(t2w.shape)\n",
    "\n",
    "        \n",
    "        a1, z2, a2, z3, a3 = self._forward(X, [t1w, t2w], [t1b, t2b])\n",
    "        \n",
    "        D3 = (a3 - Y)\n",
    "        dw3 = np.dot(a2.T, D3)/m\n",
    "        \n",
    "        \n",
    "        D2 = np.dot(D3, t2w.T) * self.activation_func_prime(z2)\n",
    "        dw2 = np.dot(a1.T, D2)/m\n",
    "        \n",
    "\n",
    "        ThetaGradW1 = dw2\n",
    "        ThetaGradB1 = np.mean(D2, 0)[np.newaxis]\n",
    "        \n",
    "        ThetaGradW2 = dw3\n",
    "        ThetaGradB2 = np.mean(D3, 0)[np.newaxis]\n",
    "\n",
    "        if reg_lambda != 0:\n",
    "            J += self.reg_lambda / (2 * m) * (np.sum(t1w**2) + np.sum(t2w**2))\n",
    "            ThetaGradW1 += (reg_lambda / m) * t1w\n",
    "            ThetaGradW2 += (reg_lambda / m) * t2w\n",
    "            \n",
    "        return (J,  WeightPacking.pack([ThetaGradW1, ThetaGradW2],\n",
    "                                       [ThetaGradB1, ThetaGradB2]))\n"
   ]
  },
  {
   "cell_type": "code",
   "execution_count": 360,
   "metadata": {
    "collapsed": false
   },
   "outputs": [],
   "source": [
    "\n"
   ]
  },
  {
   "cell_type": "code",
   "execution_count": 447,
   "metadata": {
    "collapsed": false,
    "scrolled": false
   },
   "outputs": [
    {
     "data": {
      "text/plain": [
       "0.96666666666666667"
      ]
     },
     "execution_count": 447,
     "metadata": {},
     "output_type": "execute_result"
    }
   ],
   "source": [
    "np.set_printoptions(formatter={'float': lambda x: \"{0:0.5f}\".format(x)})\n",
    "np.random.seed(40)\n",
    "import sklearn.datasets as datasets\n",
    "from sklearn import cross_validation\n",
    "\n",
    "iris = datasets.load_iris()\n",
    "X = iris.data\n",
    "y = iris.target\n",
    "\n",
    "X_train, X_test, y_train, y_test = cross_validation.train_test_split(X, y, test_size=0.4)\n",
    "\n",
    "nn = NN_1HL(reg_lambda = 2.1, maxiter=500)#maxiter=0\n",
    "nn.fit(X_train, y_train)\n",
    "\n",
    "\n",
    "from sklearn.metrics import accuracy_score\n",
    "\n",
    "accuracy_score(y_test, nn.predict(X_test))"
   ]
  },
  {
   "cell_type": "code",
   "execution_count": 5,
   "metadata": {
    "collapsed": false
   },
   "outputs": [
    {
     "data": {
      "text/plain": [
       "0.9666666666666667"
      ]
     },
     "execution_count": 5,
     "metadata": {},
     "output_type": "execute_result"
    }
   ],
   "source": [
    "0.96666666666666667"
   ]
  },
  {
   "cell_type": "code",
   "execution_count": 448,
   "metadata": {
    "collapsed": false
   },
   "outputs": [
    {
     "data": {
      "text/plain": [
       "0.876"
      ]
     },
     "execution_count": 448,
     "metadata": {},
     "output_type": "execute_result"
    }
   ],
   "source": [
    "np.random.seed(40)\n",
    "from scipy.io import loadmat\n",
    "data = loadmat('ex3data1.mat')\n",
    "X, y = data['X'], data['y']\n",
    "y = y.reshape(X.shape[0], )\n",
    "y = y - 1  # Fix notation # TODO: Automaticlly fix that on the class\n",
    "\n",
    "X_train, X_test, y_train, y_test = cross_validation.train_test_split(X, y, test_size=0.4)\n",
    "\n",
    "\n",
    "nn = NN_1HL(maxiter=50, reg_lambda = 2.1)\n",
    "nn.fit(X_train, y_train)\n",
    "\n",
    "accuracy_score(y_test, nn.predict(X_test))\n",
    "\n"
   ]
  },
  {
   "cell_type": "code",
   "execution_count": 30,
   "metadata": {
    "collapsed": false
   },
   "outputs": [
    {
     "data": {
      "text/plain": [
       "0.876"
      ]
     },
     "execution_count": 30,
     "metadata": {},
     "output_type": "execute_result"
    }
   ],
   "source": [
    "0.876"
   ]
  },
  {
   "cell_type": "code",
   "execution_count": 449,
   "metadata": {
    "collapsed": false
   },
   "outputs": [
    {
     "data": {
      "text/plain": [
       "0.875"
      ]
     },
     "execution_count": 449,
     "metadata": {},
     "output_type": "execute_result"
    }
   ],
   "source": [
    "from scipy.io import loadmat\n",
    "data = loadmat('ex3data1.mat')\n",
    "X, y = data['X'], data['y']\n",
    "y = y.reshape(X.shape[0], )\n",
    "y = y - 1  # Fix notation # TODO: Automaticlly fix that on the class\n",
    "\n",
    "X_train, X_test, y_train, y_test = cross_validation.train_test_split(X, y, test_size=0.4)\n",
    "\n",
    "\n",
    "nn = NN_1HL(maxiter=50, reg_lambda = 2.1)\n",
    "nn.fit(X_train, y_train)\n",
    "\n",
    "accuracy_score(y_test, nn.predict(X_test))\n"
   ]
  },
  {
   "cell_type": "code",
   "execution_count": 1,
   "metadata": {
    "collapsed": false
   },
   "outputs": [
    {
     "ename": "ImportError",
     "evalue": "No module named 'cvxopt'",
     "output_type": "error",
     "traceback": [
      "\u001b[0;31m---------------------------------------------------------------------------\u001b[0m",
      "\u001b[0;31mImportError\u001b[0m                               Traceback (most recent call last)",
      "\u001b[0;32m<ipython-input-1-8df0de1373a2>\u001b[0m in \u001b[0;36m<module>\u001b[0;34m()\u001b[0m\n\u001b[0;32m----> 1\u001b[0;31m \u001b[1;32mimport\u001b[0m \u001b[0mpymf\u001b[0m\u001b[1;33m\u001b[0m\u001b[0m\n\u001b[0m",
      "\u001b[0;32mC:\\Program Files\\Anaconda3\\lib\\site-packages\\pymf\\__init__.py\u001b[0m in \u001b[0;36m<module>\u001b[0;34m()\u001b[0m\n\u001b[1;32m     17\u001b[0m \u001b[1;33m\u001b[0m\u001b[0m\n\u001b[1;32m     18\u001b[0m \u001b[1;32mfrom\u001b[0m \u001b[1;33m.\u001b[0m\u001b[0mnmf\u001b[0m \u001b[1;32mimport\u001b[0m \u001b[1;33m*\u001b[0m\u001b[1;33m\u001b[0m\u001b[0m\n\u001b[0;32m---> 19\u001b[0;31m \u001b[1;32mfrom\u001b[0m \u001b[1;33m.\u001b[0m\u001b[0mnmfals\u001b[0m \u001b[1;32mimport\u001b[0m \u001b[1;33m*\u001b[0m\u001b[1;33m\u001b[0m\u001b[0m\n\u001b[0m\u001b[1;32m     20\u001b[0m \u001b[1;32mfrom\u001b[0m \u001b[1;33m.\u001b[0m\u001b[0mnmfnnls\u001b[0m \u001b[1;32mimport\u001b[0m \u001b[1;33m*\u001b[0m\u001b[1;33m\u001b[0m\u001b[0m\n\u001b[1;32m     21\u001b[0m \u001b[1;32mfrom\u001b[0m \u001b[1;33m.\u001b[0m\u001b[0mcnmf\u001b[0m \u001b[1;32mimport\u001b[0m \u001b[1;33m*\u001b[0m\u001b[1;33m\u001b[0m\u001b[0m\n",
      "\u001b[0;32mC:\\Program Files\\Anaconda3\\lib\\site-packages\\pymf\\nmfals.py\u001b[0m in \u001b[0;36m<module>\u001b[0;34m()\u001b[0m\n\u001b[1;32m     21\u001b[0m \u001b[1;33m\u001b[0m\u001b[0m\n\u001b[1;32m     22\u001b[0m \u001b[1;32mimport\u001b[0m \u001b[0mnumpy\u001b[0m \u001b[1;32mas\u001b[0m \u001b[0mnp\u001b[0m\u001b[1;33m\u001b[0m\u001b[0m\n\u001b[0;32m---> 23\u001b[0;31m \u001b[1;32mfrom\u001b[0m \u001b[0mcvxopt\u001b[0m \u001b[1;32mimport\u001b[0m \u001b[0msolvers\u001b[0m\u001b[1;33m,\u001b[0m \u001b[0mbase\u001b[0m\u001b[1;33m\u001b[0m\u001b[0m\n\u001b[0m\u001b[1;32m     24\u001b[0m \u001b[1;32mfrom\u001b[0m \u001b[0mnmf\u001b[0m \u001b[1;32mimport\u001b[0m \u001b[0mNMF\u001b[0m\u001b[1;33m\u001b[0m\u001b[0m\n\u001b[1;32m     25\u001b[0m \u001b[1;33m\u001b[0m\u001b[0m\n",
      "\u001b[0;31mImportError\u001b[0m: No module named 'cvxopt'"
     ]
    }
   ],
   "source": [
    "import pymf"
   ]
  }
 ],
 "metadata": {
  "anaconda-cloud": {},
  "kernelspec": {
   "display_name": "Python [conda root]",
   "language": "python",
   "name": "conda-root-py"
  },
  "language_info": {
   "codemirror_mode": {
    "name": "ipython",
    "version": 3
   },
   "file_extension": ".py",
   "mimetype": "text/x-python",
   "name": "python",
   "nbconvert_exporter": "python",
   "pygments_lexer": "ipython3",
   "version": "3.5.2"
  }
 },
 "nbformat": 4,
 "nbformat_minor": 1
}
