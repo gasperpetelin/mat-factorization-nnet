{
 "cells": [
  {
   "cell_type": "code",
   "execution_count": 1,
   "metadata": {
    "collapsed": false
   },
   "outputs": [],
   "source": [
    "import numpy as np\n",
    "from scipy import optimize\n",
    "from __future__ import division"
   ]
  },
  {
   "cell_type": "code",
   "execution_count": 86,
   "metadata": {
    "collapsed": false
   },
   "outputs": [],
   "source": [
    "class SigmoidActivationFunction:\n",
    "    \n",
    "    @staticmethod\n",
    "    def value(z):\n",
    "        return 1 / (1 + np.exp(-z))\n",
    "    \n",
    "    @staticmethod\n",
    "    def derivative(z):\n",
    "        sig = SigmoidActivationFunction.value(z)\n",
    "        return sig * (1 - sig)\n",
    "    \n",
    "    \n",
    "class CrossEntropyCostFunction:\n",
    "\n",
    "    @staticmethod\n",
    "    def cost(actual, predicted, numberOfExamples):\n",
    "        return np.sum(-actual * np.log(predicted).T - (1 - actual) * np.log(1 - predicted).T) / numberOfExamples    \n",
    "    \n",
    "    @staticmethod\n",
    "    def regulazation(weightsList, lambdaFactor, numberOfelements):\n",
    "        cost = 0\n",
    "        if lambdaFactor == 0:\n",
    "            for w in weightsList:\n",
    "                cost +=np.dot(w, w)\n",
    "            return (lambdaFactor/(2*numberOfelements))*cost\n",
    "        return cost\n",
    "    \n",
    "    @staticmethod\n",
    "    def regulazation(actual, predicted, activationFunction):\n",
    "    \n",
    "    \n",
    "    \n",
    "class NN_1HL:\n",
    "    #opti_method='TNC' BFGS\n",
    "    def __init__(self, reg_lambda=0, epsilon_init=0.12, \n",
    "                 hidden_layer_size=25, opti_method='TNC', maxiter=500,\n",
    "                 activationFunction = SigmoidActivationFunction, costFunction = CrossEntropyCostFunction):\n",
    "        self.reg_lambda = reg_lambda\n",
    "        self.epsilon_init = epsilon_init\n",
    "        self.hidden_layer_size = hidden_layer_size\n",
    "        self.activation_func = activationFunction.value\n",
    "        self.activation_func_prime = activationFunction.derivative\n",
    "        self.method = opti_method\n",
    "        self.maxiter = maxiter\n",
    "        self._costFunction = costFunction\n",
    "    \n",
    "    def rand_init(self, l_in, l_out):\n",
    "        return np.random.randn(l_out, l_in + 1) * 2 * self.epsilon_init - self.epsilon_init\n",
    "    \n",
    "    def pack_thetas(self, t1, t2):\n",
    "        return np.concatenate((t1.reshape(-1), t2.reshape(-1)))\n",
    "    \n",
    "    def unpack_thetas(self, thetas, input_layer_size, hidden_layer_size, num_labels):\n",
    "        t1_start = 0\n",
    "        t1_end = hidden_layer_size * (input_layer_size + 1)\n",
    "        t1 = thetas[t1_start:t1_end].reshape((hidden_layer_size, input_layer_size + 1))\n",
    "        t2 = thetas[t1_end:].reshape((num_labels, hidden_layer_size + 1))\n",
    "        return t1, t2\n",
    "    \n",
    "    def _forward(self, X, t1, t2):\n",
    "        m = X.shape[0]\n",
    "        ones = None\n",
    "        if len(X.shape) == 1:\n",
    "            ones = np.array(1).reshape(1,)\n",
    "        else:\n",
    "            ones = np.ones(m).reshape(m,1)\n",
    "        \n",
    "        # Input layer\n",
    "        a1 = np.hstack((ones, X))\n",
    "        \n",
    "        # Hidden Layer\n",
    "        z2 = np.dot(t1, a1.T)\n",
    "        a2 = self.activation_func(z2)\n",
    "        a2 = np.hstack((ones, a2.T))\n",
    "        \n",
    "        # Output layer\n",
    "        z3 = np.dot(t2, a2.T)\n",
    "        a3 = self.activation_func(z3)\n",
    "        return a1, z2, a2, z3, a3\n",
    "    \n",
    "    def variableSetup(self, thetas, input_layer_size, hidden_layer_size, num_labels, X, y):\n",
    "        t1, t2 = self.unpack_thetas(thetas, input_layer_size, hidden_layer_size, num_labels)\n",
    "        m = X.shape[0]\n",
    "        Y = np.eye(num_labels)[y]\n",
    "        return (t1, t2, m, Y)\n",
    "        \n",
    "    def removeBiasesFromWeightMatrices(self, listOfWeights):\n",
    "        return [w[:, 1:] for w in listOfWeights]\n",
    "    \n",
    "    \n",
    "    #TODO: combine function and function_prime for minimization\n",
    "    def function(self, thetas, input_layer_size, hidden_layer_size, num_labels, X, y, reg_lambda):\n",
    "        t1, t2, m, Y = self.variableSetup(thetas, input_layer_size, hidden_layer_size, num_labels, X, y)\n",
    "        \n",
    "        _, _, _, _, h = self._forward(X, t1, t2)\n",
    "        \n",
    "        J = self._costFunction.cost(Y, h, m)\n",
    "        reg = self._costFunction.regulazation(self.removeBiasesFromWeightMatrices([t1, t2]), self.reg_lambda, m)\n",
    "        return J + reg\n",
    "    \n",
    "    def addOnes(self, x):\n",
    "        ys,xs = x.shape\n",
    "        z = np.ones((ys,1))\n",
    "        return np.concatenate((z, x), axis=1)\n",
    "        \n",
    "    def function_prime(self, thetas, input_layer_size, hidden_layer_size, num_labels, X, y, reg_lambda):\n",
    "        t1, t2, m, Y = self.variableSetup(thetas, input_layer_size, hidden_layer_size, num_labels, X, y)\n",
    "\n",
    "        t1f = t1[:, 1:]\n",
    "        t2f = t2[:, 1:]\n",
    "\n",
    "        a1, z2, a2, z3, a3 = self._forward(X, t1, t2)\n",
    "        \n",
    "        si3 = a3.T-Y\n",
    "        si2 = (np.dot(si3, t2) * self.activation_func_prime(self.addOnes(z2.T)))[:, 1:]\n",
    "\n",
    "        d1_ = np.dot(si2.T,a1);\n",
    "        d2_ = np.dot(si3.T,a2);  \n",
    "        \n",
    "        Theta1_grad = d1_ / m\n",
    "        Theta2_grad = d2_ / m\n",
    "        \n",
    "        if reg_lambda != 0:\n",
    "            Theta1_grad[:, 1:] += (reg_lambda / m) * t1f\n",
    "            Theta2_grad[:, 1:] += (reg_lambda / m) * t2f\n",
    "        \n",
    "        return self.pack_thetas(Theta1_grad, Theta2_grad)\n",
    "    \n",
    "    def fit(self, X, y):\n",
    "        num_features = X.shape[0]\n",
    "        input_layer_size = X.shape[1]\n",
    "        num_labels = len(set(y))\n",
    "        \n",
    "        theta1_0 = self.rand_init(input_layer_size, self.hidden_layer_size)\n",
    "        theta2_0 = self.rand_init(self.hidden_layer_size, num_labels)\n",
    "        \n",
    "        thetas0 = self.pack_thetas(theta1_0, theta2_0)\n",
    "        \n",
    "        options = {'maxiter': self.maxiter}\n",
    "        _res = optimize.minimize(self.function, thetas0, jac=self.function_prime, method=self.method, \n",
    "                                 args=(input_layer_size, self.hidden_layer_size, num_labels, X, y, self.reg_lambda), options=options)\n",
    "        \n",
    "        self.t1, self.t2 = self.unpack_thetas(_res.x, input_layer_size, self.hidden_layer_size, num_labels)\n",
    "    \n",
    "    def predict(self, X):\n",
    "        return self.predict_proba(X).argmax(0)\n",
    "    \n",
    "    def predict_proba(self, X):\n",
    "        _, _, _, _, h = self._forward(X, self.t1, self.t2)\n",
    "        return h\n",
    "    \n",
    "    \n",
    "    "
   ]
  },
  {
   "cell_type": "code",
   "execution_count": 11,
   "metadata": {
    "collapsed": false
   },
   "outputs": [],
   "source": [
    "import sklearn.datasets as datasets\n",
    "from sklearn import cross_validation\n",
    "from sklearn.metrics import accuracy_score"
   ]
  },
  {
   "cell_type": "code",
   "execution_count": 89,
   "metadata": {
    "collapsed": false
   },
   "outputs": [
    {
     "data": {
      "text/plain": [
       "0.92733333333333334"
      ]
     },
     "execution_count": 89,
     "metadata": {},
     "output_type": "execute_result"
    }
   ],
   "source": [
    "from scipy.io import loadmat\n",
    "data = loadmat('ex3data1.mat')\n",
    "np.random.seed(40)\n",
    "X, y = data['X'], data['y']\n",
    "y = y.reshape(X.shape[0])\n",
    "y = y - 1  # Fix notation # TODO: Automaticlly fix that on the class\n",
    "\n",
    "X_train, X_test, y_train, y_test = cross_validation.train_test_split(X, y, test_size=0.3)\n",
    "\n",
    "nn = NN_1HL(maxiter=300, reg_lambda=3)\n",
    "\n",
    "\n",
    "\n",
    "nn.fit(X_train, y_train)\n",
    "\n",
    "\n",
    "accuracy_score(y_test, nn.predict(X_test))"
   ]
  },
  {
   "cell_type": "code",
   "execution_count": 10,
   "metadata": {
    "collapsed": false
   },
   "outputs": [
    {
     "data": {
      "text/plain": [
       "0.766"
      ]
     },
     "execution_count": 10,
     "metadata": {},
     "output_type": "execute_result"
    }
   ],
   "source": [
    "0.76600000000000001"
   ]
  }
 ],
 "metadata": {
  "anaconda-cloud": {},
  "kernelspec": {
   "display_name": "Python [conda root]",
   "language": "python",
   "name": "conda-root-py"
  },
  "language_info": {
   "codemirror_mode": {
    "name": "ipython",
    "version": 3
   },
   "file_extension": ".py",
   "mimetype": "text/x-python",
   "name": "python",
   "nbconvert_exporter": "python",
   "pygments_lexer": "ipython3",
   "version": "3.5.2"
  }
 },
 "nbformat": 4,
 "nbformat_minor": 1
}
