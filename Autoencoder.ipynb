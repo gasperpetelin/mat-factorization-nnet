{
 "cells": [
  {
   "cell_type": "code",
   "execution_count": 1,
   "metadata": {
    "collapsed": false
   },
   "outputs": [
    {
     "name": "stderr",
     "output_type": "stream",
     "text": [
      "Using TensorFlow backend.\n",
      "C:\\ProgramData\\Anaconda3\\lib\\site-packages\\sklearn\\cross_validation.py:44: DeprecationWarning: This module was deprecated in version 0.18 in favor of the model_selection module into which all the refactored classes and functions are moved. Also note that the interface of the new CV iterators are different from that of this module. This module will be removed in 0.20.\n",
      "  \"This module will be removed in 0.20.\", DeprecationWarning)\n"
     ]
    }
   ],
   "source": [
    "import numpy as np\n",
    "from keras.models import Sequential\n",
    "from keras.layers import Dense, Dropout, Activation, Flatten\n",
    "import keras\n",
    "from scipy.io import loadmat\n",
    "from callbacks import *\n",
    "from load_data import *\n",
    "from keras.regularizers import l2\n",
    "from Models.Base import BaseNN\n",
    "from Models.PCA import PCANN\n",
    "from sklearn.decomposition import PCA"
   ]
  },
  {
   "cell_type": "code",
   "execution_count": 32,
   "metadata": {
    "collapsed": false
   },
   "outputs": [
    {
     "data": {
      "text/plain": [
       "<keras.callbacks.History at 0x24334e56f60>"
      ]
     },
     "execution_count": 32,
     "metadata": {},
     "output_type": "execute_result"
    }
   ],
   "source": [
    "model = Sequential()\n",
    "model.add(Dense(10, input_dim=400, activation='sigmoid'))# , kernel_regularizer = l2(0.07)))\n",
    "\n",
    "X_train, X_test, y_train, y_test = load_small_mnist(0.4)\n",
    "model.compile(loss='categorical_crossentropy', optimizer='adam', metrics=['accuracy'])\n",
    "\n",
    "ca_callback = CACallback(X_test, oneHot(y_test), X_train, oneHot(y_train))\n",
    "loss_callback = LossCallback(X_test, oneHot(y_test), X_train, oneHot(y_train))\n",
    "itr_callback = IterationCallback(5)\n",
    "\n",
    "model.fit(X_train, oneHot(y_train), epochs=20, batch_size=10, verbose=0, callbacks=[ca_callback, loss_callback])"
   ]
  },
  {
   "cell_type": "code",
   "execution_count": 44,
   "metadata": {
    "collapsed": false
   },
   "outputs": [],
   "source": [
    "from aa import AA\n",
    "\n",
    "mid_dim1 = 15\n",
    "mid_dim2 = 12\n",
    "mid_dim3 = 11\n",
    "\n",
    "dims = [15, 12, 11]\n",
    "\n",
    "models = [Sequential() for m in range(len(dims)+1)]\n",
    "models[0].add(Dense(dims[0], input_dim=400, activation='sigmoid'))\n",
    "models[1].add(Dense(dims[1], input_dim=dims[0], activation='sigmoid'))\n",
    "models[2].add(Dense(dims[2], input_dim=dims[1], activation='sigmoid'))\n",
    "models[3].add(Dense(10, input_dim=dims[2], activation='sigmoid'))\n",
    "\n",
    "for m in models:\n",
    "    m.compile(loss='categorical_crossentropy', optimizer='adam')\n",
    "\n",
    "X_train, X_test, y_train, y_test = load_small_mnist(0.2)\n",
    "\n",
    "a1 = AA(X_train, dims[0])\n",
    "a1.factorize(15)\n",
    "\n",
    "a2 = AA(X_train, dims[1])\n",
    "a2.factorize(15)\n",
    "\n",
    "a3 = AA(X_train, dims[2])\n",
    "a3.factorize(15)\n",
    "\n",
    "aWs = [a1.W, a2.W, a3.W]"
   ]
  },
  {
   "cell_type": "code",
   "execution_count": 45,
   "metadata": {
    "collapsed": false
   },
   "outputs": [],
   "source": [
    "itras = 10\n",
    "batch_size = 10\n",
    "models[0].fit(X_train, aWs[0], epochs=itras, batch_size=batch_size, verbose=0)\n",
    "models[1].fit(aWs[0], aWs[1], epochs=itras, batch_size=batch_size, verbose=0)\n",
    "models[2].fit(aWs[1], aWs[2], epochs=itras, batch_size=batch_size, verbose=0)\n",
    "models[3].fit(aWs[2], oneHot(y_train), epochs=itras, batch_size=batch_size, verbose=0)\n",
    "\n",
    "weights1 = models[0].layers[0].get_weights()\n",
    "weights2 = models[1].layers[0].get_weights()\n",
    "weights2_5 = models[2].layers[0].get_weights()\n",
    "weights2_6 = models[3].layers[0].get_weights()\n",
    "\n",
    "model3 = Sequential()\n",
    "model3.add(Dense(mid_dim1, input_dim=400, activation='sigmoid', weights = weights1))\n",
    "model3.add(Dense(mid_dim2, input_dim=mid_dim1, activation='sigmoid', weights = weights2))\n",
    "model3.add(Dense(mid_dim3, input_dim=mid_dim2, activation='sigmoid', weights = weights2_5))\n",
    "model3.add(Dense(10, input_dim=mid_dim3, activation='sigmoid', weights = weights2_6))\n",
    "\n",
    "model3.compile(loss='categorical_crossentropy', optimizer='adam', metrics=['accuracy'])\n",
    "\n",
    "ca_callback = CACallback(X_test, oneHot(y_test), X_train, oneHot(y_train))\n",
    "model3.fit(X_train, oneHot(y_train), epochs=200, batch_size=20, verbose=0, callbacks=[ca_callback])\n",
    "svd = ca_callback.get_data()"
   ]
  },
  {
   "cell_type": "code",
   "execution_count": 39,
   "metadata": {
    "collapsed": false
   },
   "outputs": [],
   "source": [
    "class RandomNN:\n",
    "    def __init__(self, layers=[400, 25, 10]):\n",
    "        self.model = Sequential()\n",
    "        for i in range(len(layers)-1):\n",
    "            self.model.add(Dense(layers[i+1], input_dim=layers[i]))\n",
    "            self.model.add(Activation('sigmoid'))\n",
    "        self.model.compile(loss='categorical_crossentropy',\n",
    "                           optimizer='adam',\n",
    "                           metrics=['accuracy'])\n",
    "\n",
    "    def fit(self, X_test, y_test, X_train, y_train, epochs = 200, batch_size = 10):\n",
    "        ca_callback = CACallback(X_test, oneHot(y_test), X_train, oneHot(y_train))\n",
    "        self.model.fit(X_train, oneHot(y_train), epochs=epochs, batch_size=batch_size, verbose=0, callbacks=[ca_callback])\n",
    "        return ca_callback.get_data()"
   ]
  },
  {
   "cell_type": "code",
   "execution_count": 46,
   "metadata": {
    "collapsed": false
   },
   "outputs": [],
   "source": [
    "base_model = PCANN([400, 15, 12, 11, 10])\n",
    "pca = base_model.fit(X_test, y_test, X_train, y_train, 200, 20)\n",
    "base_model = BaseNN([400, 15, 12, 11, 10])\n",
    "random = base_model.fit(X_test, y_test, X_train, y_train, 200, 20)\n",
    "base_model = RandomNN([400, 15, 12, 11, 10])\n",
    "random1 = base_model.fit(X_test, y_test, X_train, y_train, 200, 20)"
   ]
  },
  {
   "cell_type": "code",
   "execution_count": 7,
   "metadata": {
    "collapsed": false
   },
   "outputs": [],
   "source": [
    "#base_model = LDANN([400, 15, 12, 11, 10])\n",
    "#lda = base_model.fit(X_test, y_test, X_train, y_train, 100, 5)"
   ]
  },
  {
   "cell_type": "code",
   "execution_count": 47,
   "metadata": {
    "collapsed": false
   },
   "outputs": [
    {
     "data": {
      "image/png": "[encoded data removed]",
      "text/plain": [
       "<matplotlib.figure.Figure at 0x24343b2cb38>"
      ]
     },
     "metadata": {},
     "output_type": "display_data"
    }
   ],
   "source": [
    "#plt.clear()\n",
    "plt.plot(random[1], label = \"random\")\n",
    "#plt.plot(random1[1], label = \"random1\")\n",
    "plt.plot(pca[1], label = \"pca\")\n",
    "plt.plot(svd[1], label = \"matrix\")\n",
    "plt.legend(loc='lower right')\n",
    "plt.ylim([0.85, 1])\n",
    "plt.show()"
   ]
  },
  {
   "cell_type": "code",
   "execution_count": 9,
   "metadata": {
    "collapsed": false
   },
   "outputs": [
    {
     "name": "stdout",
     "output_type": "stream",
     "text": [
      "(1000,)\n",
      "explained variance ratio (first two components): [ 0.11292753  0.08132449]\n"
     ]
    },
    {
     "name": "stderr",
     "output_type": "stream",
     "text": [
      "C:\\ProgramData\\Anaconda3\\lib\\site-packages\\sklearn\\discriminant_analysis.py:387: UserWarning: Variables are collinear.\n",
      "  warnings.warn(\"Variables are collinear.\")\n"
     ]
    },
    {
     "ename": "NameError",
     "evalue": "name 'target_name' is not defined",
     "output_type": "error",
     "traceback": [
      "\u001b[0;31m---------------------------------------------------------------------------\u001b[0m",
      "\u001b[0;31mNameError\u001b[0m                                 Traceback (most recent call last)",
      "\u001b[0;32m<ipython-input-9-4823f5d82428>\u001b[0m in \u001b[0;36m<module>\u001b[0;34m()\u001b[0m\n\u001b[1;32m     26\u001b[0m \u001b[1;32mfor\u001b[0m \u001b[0mi\u001b[0m \u001b[1;32min\u001b[0m \u001b[1;33m[\u001b[0m\u001b[1;36m0\u001b[0m\u001b[1;33m,\u001b[0m \u001b[1;36m1\u001b[0m\u001b[1;33m,\u001b[0m \u001b[1;36m2\u001b[0m\u001b[1;33m,\u001b[0m \u001b[1;36m3\u001b[0m\u001b[1;33m,\u001b[0m\u001b[1;36m4\u001b[0m\u001b[1;33m,\u001b[0m\u001b[1;36m5\u001b[0m\u001b[1;33m,\u001b[0m\u001b[1;36m6\u001b[0m\u001b[1;33m,\u001b[0m\u001b[1;36m7\u001b[0m\u001b[1;33m,\u001b[0m\u001b[1;36m8\u001b[0m\u001b[1;33m,\u001b[0m\u001b[1;36m9\u001b[0m\u001b[1;33m]\u001b[0m\u001b[1;33m:\u001b[0m\u001b[1;33m\u001b[0m\u001b[0m\n\u001b[1;32m     27\u001b[0m     plt.scatter(X_r[y == i, 0], X_r[y == i, 1], alpha=.8, lw=lw,\n\u001b[0;32m---> 28\u001b[0;31m                 label=target_name)\n\u001b[0m\u001b[1;32m     29\u001b[0m \u001b[0mplt\u001b[0m\u001b[1;33m.\u001b[0m\u001b[0mlegend\u001b[0m\u001b[1;33m(\u001b[0m\u001b[0mloc\u001b[0m\u001b[1;33m=\u001b[0m\u001b[1;34m'best'\u001b[0m\u001b[1;33m,\u001b[0m \u001b[0mshadow\u001b[0m\u001b[1;33m=\u001b[0m\u001b[1;32mFalse\u001b[0m\u001b[1;33m,\u001b[0m \u001b[0mscatterpoints\u001b[0m\u001b[1;33m=\u001b[0m\u001b[1;36m1\u001b[0m\u001b[1;33m)\u001b[0m\u001b[1;33m\u001b[0m\u001b[0m\n\u001b[1;32m     30\u001b[0m \u001b[0mplt\u001b[0m\u001b[1;33m.\u001b[0m\u001b[0mtitle\u001b[0m\u001b[1;33m(\u001b[0m\u001b[1;34m'PCA of IRIS dataset'\u001b[0m\u001b[1;33m)\u001b[0m\u001b[1;33m\u001b[0m\u001b[0m\n",
      "\u001b[0;31mNameError\u001b[0m: name 'target_name' is not defined"
     ]
    }
   ],
   "source": [
    "#import matplotlib.pyplot as plt\n",
    "#\n",
    "#from sklearn import datasets\n",
    "#from sklearn.decomposition import PCA\n",
    "#from sklearn.discriminant_analysis import LinearDiscriminantAnalysis\n",
    "#from sklearn.preprocessing import MinMaxScaler\n",
    "#iris = datasets.load_iris()\n",
    "#\n",
    "#X = X_test\n",
    "#y = y_test\n",
    "#\n",
    "#slc = MinMaxScaler(feature_range=(-1, 1))\n",
    "#pca = PCA(n_components=2)\n",
    "#X_r = slc.fit_transform(pca.fit(X).transform(X))\n",
    "#print(y.shape)\n",
    "#lda = LinearDiscriminantAnalysis(n_components=2)\n",
    "#X_r2 = slc.fit_transform(lda.fit(X, y).transform(X))\n",
    "#\n",
    "## Percentage of variance explained for each components\n",
    "#print('explained variance ratio (first two components): %s'\n",
    "#      % str(pca.explained_variance_ratio_))\n",
    "#\n",
    "#plt.figure()\n",
    "#lw = 2\n",
    "#\n",
    "#for i in [0, 1, 2, 3,4,5,6,7,8,9]:\n",
    "#    plt.scatter(X_r[y == i, 0], X_r[y == i, 1], alpha=.8, lw=lw,\n",
    "#                label=target_name)\n",
    "#plt.legend(loc='best', shadow=False, scatterpoints=1)\n",
    "#plt.title('PCA of IRIS dataset')\n",
    "#\n",
    "#plt.figure()\n",
    "#for i in [0, 1, 2,3,4,5,6,7,8,9]:\n",
    "#    plt.scatter(X_r2[y == i, 0], X_r2[y == i, 1], alpha=.8,\n",
    "#                label=target_name)\n",
    "#plt.legend(loc='best', shadow=False, scatterpoints=1)\n",
    "#plt.title('LDA of IRIS dataset')\n",
    "#\n",
    "#plt.show()"
   ]
  }
 ],
 "metadata": {
  "kernelspec": {
   "display_name": "Python 3",
   "language": "python",
   "name": "python3"
  },
  "language_info": {
   "codemirror_mode": {
    "name": "ipython",
    "version": 3
   },
   "file_extension": ".py",
   "mimetype": "text/x-python",
   "name": "python",
   "nbconvert_exporter": "python",
   "pygments_lexer": "ipython3",
   "version": "3.6.0"
  }
 },
 "nbformat": 4,
 "nbformat_minor": 2
}
