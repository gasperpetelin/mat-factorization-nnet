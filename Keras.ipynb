{
 "cells": [
  {
   "cell_type": "code",
   "execution_count": 22,
   "metadata": {
    "collapsed": false
   },
   "outputs": [],
   "source": [
    "import numpy as np\n",
    "from keras.models import Sequential\n",
    "from keras.layers import Dense, Dropout, Activation, Flatten\n",
    "import keras"
   ]
  },
  {
   "cell_type": "code",
   "execution_count": 48,
   "metadata": {
    "collapsed": false
   },
   "outputs": [],
   "source": [
    "class TestCallback(keras.callbacks.Callback):\n",
    "    def __init__(self, X_test, y_test):\n",
    "        self.X_test = X_test\n",
    "        self.y_test = y_test\n",
    "\n",
    "    def on_epoch_end(self, epoch, logs={}):\n",
    "        loss, acc = self.model.evaluate(self.X_test, self.y_test, verbose=0)\n",
    "        print('{0:.2f}%'.format(100*acc))"
   ]
  },
  {
   "cell_type": "code",
   "execution_count": 43,
   "metadata": {
    "collapsed": false
   },
   "outputs": [
    {
     "data": {
      "text/plain": [
       "0.98333333333333328"
      ]
     },
     "execution_count": 43,
     "metadata": {},
     "output_type": "execute_result"
    }
   ],
   "source": [
    "model = Sequential()\n",
    "model.add(Dense(25, input_dim=4, activation='sigmoid'))\n",
    "model.add(Dense(3, activation='sigmoid'))\n",
    "\n",
    "import sklearn.datasets as datasets\n",
    "from sklearn import cross_validation\n",
    "from sklearn.metrics import accuracy_score\n",
    "iris = datasets.load_iris()\n",
    "X = iris.data\n",
    "y = iris.target\n",
    "X_train, X_test, y_train, y_test = cross_validation.train_test_split(X, y, test_size=0.4)\n",
    "model.compile(loss='categorical_crossentropy', optimizer='adam', metrics=['accuracy'])\n",
    "model.fit(X_train, np.eye(3)[y_train], epochs=500, batch_size=30, verbose=0)\n",
    "\n",
    "accuracy_score(y_test, model.predict(X_test).argmax(1))"
   ]
  },
  {
   "cell_type": "code",
   "execution_count": 49,
   "metadata": {
    "collapsed": false
   },
   "outputs": [
    {
     "name": "stdout",
     "output_type": "stream",
     "text": [
      "67.95%\n",
      "77.75%\n",
      "81.00%\n",
      "81.80%\n",
      "82.75%\n",
      "83.50%\n",
      "83.55%\n",
      "83.50%\n",
      "85.95%\n",
      "86.55%\n",
      "86.55%\n",
      "87.70%\n",
      "88.05%\n",
      "87.35%\n",
      "87.00%\n",
      "87.95%\n",
      "87.65%\n",
      "88.10%\n",
      "87.75%\n",
      "87.75%\n",
      "88.65%\n",
      "88.55%\n",
      "89.05%\n",
      "88.25%\n",
      "88.65%\n",
      "87.90%\n",
      "89.05%\n",
      "88.60%\n",
      "88.75%\n",
      "89.00%\n"
     ]
    },
    {
     "data": {
      "text/plain": [
       "<keras.callbacks.History at 0x186e8597710>"
      ]
     },
     "execution_count": 49,
     "metadata": {},
     "output_type": "execute_result"
    }
   ],
   "source": [
    "from keras.regularizers import l2\n",
    "model = Sequential()\n",
    "model.add(Dense(25, input_dim=400, activation='sigmoid', kernel_regularizer = l2(0.01)))\n",
    "model.add(Dense(10, activation='sigmoid'))\n",
    "\n",
    "\n",
    "\n",
    "from scipy.io import loadmat\n",
    "data = loadmat('ex3data1.mat')\n",
    "X, y = data['X'], data['y']\n",
    "y = y.reshape(X.shape[0], )\n",
    "y = y - 1\n",
    "X_train, X_test, y_train, y_test = cross_validation.train_test_split(X, y, test_size=0.4)\n",
    "model.compile(loss='categorical_crossentropy', optimizer='adam', metrics=['accuracy'])\n",
    "\n",
    "cb = TestCallback(X_test, np.eye(10)[y_test])\n",
    "\n",
    "model.fit(X_train, np.eye(10)[y_train], epochs=30, batch_size=20, verbose=0, callbacks=[cb])"
   ]
  },
  {
   "cell_type": "code",
   "execution_count": 15,
   "metadata": {
    "collapsed": false
   },
   "outputs": [
    {
     "name": "stdout",
     "output_type": "stream",
     "text": [
      "[[  1.95301477e-01   7.29485983e-01   1.38487787e-01]\n",
      " [  3.06685401e-02   2.18473955e-02   4.81371828e-01]\n",
      " [  2.23859946e-01   8.66629699e-01   2.26364180e-01]\n",
      " [  2.30495860e-01   2.23054739e-01   3.57206000e-01]\n",
      " [  6.85019183e-01   1.34715763e-01   3.41144213e-01]\n",
      " [  9.31764862e-01   1.77182328e-02   6.34033993e-05]\n",
      " [  2.15305360e-01   8.81216902e-01   1.97166198e-01]\n",
      " [  6.64928854e-02   2.22455831e-03   1.68265535e-01]]\n",
      "[[ 0.07195077  0.20048083  0.97805219  0.09342083]\n",
      " [ 0.85562809  0.67131161  0.18628426  0.08699891]\n",
      " [ 0.25950981  0.72480181  0.22261506  1.95387534]]\n"
     ]
    }
   ],
   "source": [
    "from nmf import NMF\n",
    "\n",
    "r = np.random.rand(8,4)\n",
    "\n",
    "f = NMF(r, 3)\n",
    "f.factorize(20)\n",
    "print(f.W)\n",
    "print(f.H)"
   ]
  }
 ],
 "metadata": {
  "kernelspec": {
   "display_name": "Python 3",
   "language": "python",
   "name": "python3"
  },
  "language_info": {
   "codemirror_mode": {
    "name": "ipython",
    "version": 3
   },
   "file_extension": ".py",
   "mimetype": "text/x-python",
   "name": "python",
   "nbconvert_exporter": "python",
   "pygments_lexer": "ipython3",
   "version": "3.6.0"
  }
 },
 "nbformat": 4,
 "nbformat_minor": 2
}
