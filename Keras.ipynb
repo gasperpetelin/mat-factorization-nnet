{
 "cells": [
  {
   "cell_type": "code",
   "execution_count": 1,
   "metadata": {
    "collapsed": false
   },
   "outputs": [
    {
     "name": "stderr",
     "output_type": "stream",
     "text": [
      "Using TensorFlow backend.\n"
     ]
    }
   ],
   "source": [
    "import numpy as np\n",
    "from keras.models import Sequential\n",
    "from keras.layers import Dense, Dropout, Activation, Flatten\n",
    "import keras"
   ]
  },
  {
   "cell_type": "code",
   "execution_count": 2,
   "metadata": {
    "collapsed": false
   },
   "outputs": [
    {
     "name": "stderr",
     "output_type": "stream",
     "text": [
      "C:\\ProgramData\\Anaconda3\\lib\\site-packages\\sklearn\\cross_validation.py:44: DeprecationWarning: This module was deprecated in version 0.18 in favor of the model_selection module into which all the refactored classes and functions are moved. Also note that the interface of the new CV iterators are different from that of this module. This module will be removed in 0.20.\n",
      "  \"This module will be removed in 0.20.\", DeprecationWarning)\n"
     ]
    }
   ],
   "source": [
    "import matplotlib.pyplot as plt\n",
    "from callbacks import *"
   ]
  },
  {
   "cell_type": "code",
   "execution_count": 3,
   "metadata": {
    "collapsed": false
   },
   "outputs": [
    {
     "data": {
      "text/plain": [
       "0.98333333333333328"
      ]
     },
     "execution_count": 3,
     "metadata": {},
     "output_type": "execute_result"
    }
   ],
   "source": [
    "model = Sequential()\n",
    "model.add(Dense(25, input_dim=4, activation='sigmoid'))\n",
    "model.add(Dense(3, activation='sigmoid'))\n",
    "\n",
    "import sklearn.datasets as datasets\n",
    "from sklearn import cross_validation\n",
    "from sklearn.metrics import accuracy_score\n",
    "iris = datasets.load_iris()\n",
    "X = iris.data\n",
    "y = iris.target\n",
    "X_train, X_test, y_train, y_test = cross_validation.train_test_split(X, y, test_size=0.4)\n",
    "model.compile(loss='categorical_crossentropy', optimizer='adam', metrics=['accuracy'])\n",
    "model.fit(X_train, oneHot(y_train), epochs=500, batch_size=30, verbose=0)\n",
    "\n",
    "accuracy_score(y_test, model.predict(X_test).argmax(1))"
   ]
  },
  {
   "cell_type": "code",
   "execution_count": 4,
   "metadata": {
    "collapsed": false,
    "scrolled": false
   },
   "outputs": [
    {
     "data": {
      "image/png": "[encoded data removed]",
      "text/plain": [
       "<matplotlib.figure.Figure at 0x17319c62d68>"
      ]
     },
     "metadata": {},
     "output_type": "display_data"
    },
    {
     "data": {
      "image/png": "[encoded data removed]",
      "text/plain": [
       "<matplotlib.figure.Figure at 0x17319e11a58>"
      ]
     },
     "metadata": {},
     "output_type": "display_data"
    }
   ],
   "source": [
    "from keras.regularizers import l2\n",
    "model = Sequential()\n",
    "model.add(Dense(25, input_dim=400, activation='sigmoid'))# , kernel_regularizer = l2(0.01)))\n",
    "model.add(Dense(10, activation='sigmoid'))\n",
    "\n",
    "\n",
    "\n",
    "from scipy.io import loadmat\n",
    "data = loadmat('ex3data1.mat')\n",
    "X, y = data['X'], data['y']\n",
    "y = y.reshape(X.shape[0], )\n",
    "y = y - 1\n",
    "X_train, X_test, y_train, y_test = cross_validation.train_test_split(X, y, test_size=0.4)\n",
    "model.compile(loss='categorical_crossentropy', optimizer='adam', metrics=['accuracy'])\n",
    "\n",
    "ca_callback = CACallback(X_test, oneHot(y_test), X_train, oneHot(y_train))\n",
    "loss_callback = LossCallback(X_test, oneHot(y_test), X_train, oneHot(y_train))\n",
    "itr_callback = IterationCallback(5)\n",
    "\n",
    "model.fit(X_train, oneHot(y_train), epochs=50, batch_size=10, verbose=0, callbacks=[ca_callback, loss_callback])\n",
    "\n",
    "ca_callback.plot()\n",
    "loss_callback.plot()"
   ]
  },
  {
   "cell_type": "markdown",
   "metadata": {},
   "source": [
    "1 Layer Neural Network"
   ]
  },
  {
   "cell_type": "code",
   "execution_count": 11,
   "metadata": {
    "collapsed": false,
    "scrolled": true
   },
   "outputs": [],
   "source": [
    "from keras.regularizers import l2\n",
    "model = Sequential()\n",
    "model.add(Dense(10, input_dim=400, activation='sigmoid'))\n",
    "\n",
    "\n",
    "\n",
    "from scipy.io import loadmat\n",
    "data = loadmat('ex3data1.mat')\n",
    "X, y = data['X'], data['y']\n",
    "y = y.reshape(X.shape[0], )\n",
    "y = y - 1\n",
    "X_train, X_test, y_train, y_test = cross_validation.train_test_split(X, y, test_size=0.4)\n",
    "model.compile(loss='categorical_crossentropy', optimizer='adam', metrics=['accuracy'])\n",
    "\n",
    "ca_callback = CACallback(X_test, oneHot(y_test), X_train, oneHot(y_train))\n",
    "loss_callback = LossCallback(X_test, oneHot(y_test), X_train, oneHot(y_train))\n",
    "itr_callback = IterationCallback(5)\n",
    "\n",
    "model.fit(X_train, oneHot(y_train), epochs=150, batch_size=10, verbose=0, callbacks=[ca_callback, loss_callback])\n",
    "\n",
    "#ca_callback.plot()\n",
    "#loss_callback.plot()\n",
    "_, random_ca = ca_callback.get_data()"
   ]
  },
  {
   "cell_type": "code",
   "execution_count": 12,
   "metadata": {
    "collapsed": false
   },
   "outputs": [
    {
     "name": "stdout",
     "output_type": "stream",
     "text": [
      "done\n",
      "0.00250000017873 (400, 10)\n"
     ]
    }
   ],
   "source": [
    "from keras.regularizers import l2\n",
    "from nmf import NMF\n",
    "from aa import AA\n",
    "model = Sequential()\n",
    "\n",
    "\n",
    "\n",
    "a = AA(X_train, 10)\n",
    "a.factorize(200)\n",
    "print(\"done\")\n",
    "w1 = a.H.T/400\n",
    "print(np.max(w1), w1.shape)\n",
    "b1 = np.random.rand(10)\n",
    "\n",
    "\n",
    "layer = Dense(10, input_dim=400, activation='sigmoid', weights = [w1, b1])\n",
    "model.add(layer)\n",
    "\n",
    "from scipy.io import loadmat\n",
    "data = loadmat('ex3data1.mat')\n",
    "X, y = data['X'], data['y']\n",
    "y = y.reshape(X.shape[0], )\n",
    "y = y - 1\n",
    "X_train, X_test, y_train, y_test = cross_validation.train_test_split(X, y, test_size=0.4)\n",
    "model.compile(loss='categorical_crossentropy', optimizer='adam', metrics=['accuracy'])\n",
    "\n",
    "\n",
    "ca_callback = CACallback(X_test, oneHot(y_test), X_train, oneHot(y_train))\n",
    "loss_callback = LossCallback(X_test, oneHot(y_test), X_train, oneHot(y_train))\n",
    "itr_callback = IterationCallback(5)\n",
    "\n",
    "model.fit(X_train, oneHot(y_train), epochs=150, batch_size=10, verbose=0, callbacks=[ca_callback, loss_callback])\n",
    "\n",
    "#ca_callback.plot()\n",
    "#loss_callback.plot()\n",
    "_, matrix_ca = ca_callback.get_data()"
   ]
  },
  {
   "cell_type": "code",
   "execution_count": 13,
   "metadata": {
    "collapsed": false
   },
   "outputs": [
    {
     "data": {
      "image/png": "[encoded data removed]",
      "text/plain": [
       "<matplotlib.figure.Figure at 0x1731a2e5470>"
      ]
     },
     "metadata": {},
     "output_type": "display_data"
    }
   ],
   "source": [
    "plt.plot(matrix_ca, label = \"matrix\")\n",
    "plt.plot(random_ca, label = \"random\")\n",
    "plt.legend(loc='lower right')\n",
    "plt.show()"
   ]
  },
  {
   "cell_type": "code",
   "execution_count": 8,
   "metadata": {
    "collapsed": false
   },
   "outputs": [],
   "source": [
    "#from tensorflow.examples.tutorials.mnist import input_data\n",
    "#from keras.layers import Input, Dense, Conv2D, MaxPooling2D, UpSampling2D, Flatten, Reshape\n",
    "#from keras.models import Model\n",
    "#from keras.optimizers import Adam\n",
    "#from keras.regularizers import l1\n",
    "#\n",
    "#import numpy as np\n",
    "#import matplotlib.pyplot as plt\n",
    "#import keras.backend as K\n",
    "#import tensorflow as tf\n",
    "#\n",
    "#\n",
    "#mnist = input_data.read_data_sets('../data/MNIST_data', one_hot=True)\n",
    "#X, _ = mnist.train.images, mnist.train.labels\n",
    "#\n",
    "#inputs = Input(shape=(784,))\n",
    "#h = Dense(200, activation='sigmoid')(inputs)\n",
    "#outputs = Dense(784)(h)\n",
    "#\n",
    "#model = Model(input=inputs, output=outputs)\n",
    "#model.compile(optimizer='adam', loss='mse')\n",
    "#model.fit(X, X, batch_size=10, epochs=5)"
   ]
  },
  {
   "cell_type": "code",
   "execution_count": 9,
   "metadata": {
    "collapsed": false
   },
   "outputs": [
    {
     "name": "stdout",
     "output_type": "stream",
     "text": [
      "[[ 0.60668073  0.59293175  0.10002185]\n",
      " [ 0.19001156  0.64149742  0.18872148]\n",
      " [ 0.0050229   0.45206365  0.2466402 ]\n",
      " [ 0.04122269  0.19307027  0.67296629]\n",
      " [ 0.04616092  0.44963408  0.06489389]\n",
      " [ 0.41438992  0.15395835  0.52948119]\n",
      " [ 0.63868089  0.0654623   0.28563949]\n",
      " [ 0.20730959  0.27006349  0.00095284]]\n",
      "[[  7.07022283e-01   2.34860438e-01   1.32790475e+00   1.69001603e-01]\n",
      " [  5.25272715e-01   1.08266744e+00   2.67192704e-01   1.08673709e+00]\n",
      " [  8.82720160e-01   1.02561282e+00   3.64230395e-01   9.30524715e-04]]\n"
     ]
    }
   ],
   "source": [
    "from nmf import NMF\n",
    "\n",
    "r = np.random.rand(8,4)\n",
    "\n",
    "f = NMF(r, 3)\n",
    "f.factorize(20)\n",
    "print(f.W)\n",
    "print(f.H)"
   ]
  },
  {
   "cell_type": "code",
   "execution_count": 10,
   "metadata": {
    "collapsed": false
   },
   "outputs": [],
   "source": [
    "#%matplotlib inline\n",
    "#import matplotlib\n",
    "#import matplotlib.pyplot as plt\n",
    "#\n",
    "#from keras.layers import Input, Dense\n",
    "#from keras.models import Model\n",
    "#\n",
    "#encoding_dim = 10  # 32 floats -> compression of factor 24.5, assuming the input is 784 floats\n",
    "#\n",
    "#\n",
    "#input_img = Input(shape=(784,))\n",
    "#encoded = Dense(encoding_dim, activation='relu')(input_img)\n",
    "#decoded = Dense(784, activation='sigmoid')(encoded)\n",
    "#\n",
    "#autoencoder = Model(input=input_img, output=decoded)\n",
    "#encoder = Model(input=input_img, output=encoded)\n",
    "#\n",
    "## create a placeholder for an encoded (32-dimensional) input\n",
    "#encoded_input = Input(shape=(encoding_dim,))\n",
    "## retrieve the last layer of the autoencoder model\n",
    "#decoder_layer = autoencoder.layers[-1]\n",
    "## create the decoder model\n",
    "#decoder = Model(input=encoded_input, output=decoder_layer(encoded_input))\n",
    "#\n",
    "#autoencoder.compile(optimizer='adam', loss='binary_crossentropy')\n",
    "#\n",
    "#from keras.datasets import mnist\n",
    "#import numpy as np\n",
    "#(x_train, _), (x_test, _) = mnist.load_data()\n",
    "#\n",
    "#x_train = x_train.astype('float32') / 255.\n",
    "#x_test = x_test.astype('float32') / 255.\n",
    "#x_train = x_train.reshape((len(x_train), np.prod(x_train.shape[1:])))\n",
    "#x_test = x_test.reshape((len(x_test), np.prod(x_test.shape[1:])))\n",
    "#\n",
    "#\n",
    "#autoencoder.fit(x_train, x_train,\n",
    "#                epochs=5,\n",
    "#                batch_size=100,\n",
    "#                shuffle=True,\n",
    "#                validation_data=(x_test, x_test))\n",
    "#\n",
    "#encoded_imgs = encoder.predict(x_test)\n",
    "#decoded_imgs = decoder.predict(encoded_imgs)\n",
    "#\n",
    "#n = 12  # how many digits we will display\n",
    "#plt.figure(figsize=(20, 4))\n",
    "#for i in range(10):\n",
    "#    # display original\n",
    "#    ax = plt.subplot(2, n, i + 1)\n",
    "#    plt.imshow(x_test[i].reshape(28, 28))\n",
    "#    plt.gray()\n",
    "#    ax.get_xaxis().set_visible(False)\n",
    "#    ax.get_yaxis().set_visible(False)\n",
    "#\n",
    "#    # display reconstruction\n",
    "#    ax = plt.subplot(2, n, i + 1 + n)\n",
    "#    plt.imshow(decoded_imgs[i].reshape(28, 28))\n",
    "#    plt.gray()\n",
    "#    ax.get_xaxis().set_visible(False)\n",
    "#    ax.get_yaxis().set_visible(False)\n",
    "#plt.show()"
   ]
  },
  {
   "cell_type": "code",
   "execution_count": null,
   "metadata": {
    "collapsed": false
   },
   "outputs": [],
   "source": []
  }
 ],
 "metadata": {
  "kernelspec": {
   "display_name": "Python 3",
   "language": "python",
   "name": "python3"
  },
  "language_info": {
   "codemirror_mode": {
    "name": "ipython",
    "version": 3
   },
   "file_extension": ".py",
   "mimetype": "text/x-python",
   "name": "python",
   "nbconvert_exporter": "python",
   "pygments_lexer": "ipython3",
   "version": "3.6.0"
  }
 },
 "nbformat": 4,
 "nbformat_minor": 2
}
